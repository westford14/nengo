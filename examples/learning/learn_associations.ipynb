{
 "metadata": {
  "name": ""
 },
 "nbformat": 3,
 "nbformat_minor": 0,
 "worksheets": [
  {
   "cells": [
    {
     "cell_type": "markdown",
     "metadata": {},
     "source": [
      "# Nengo Example: Learning new associations\n",
      "\n",
      "Being able to learn an input-output mapping (or a _heteroassociative memory_) is useful for storing and recalling associations. This is also a task required by more complicated models that require some notion of long-term memory.\n",
      "\n",
      "In a perfect world, the PES rule could be applied to learn this mapping from examples. However, when two distinct inputs cause the same neurons to fire, their decoded values will depend on one another. This leads to difficulty when trying to store multiple indpendent associations in the same memory.\n",
      "\n",
      "To solve this problem, a vector-space analog of Oja's rule, dubbed Vector-Oja's rule (or simply _Voja's rule_) was proposed. In essence, this unsupervised learning rule makes neurons fire selectively in response to their input. When used in conjunction with properly-chosen intercepts (corresponding to the largest dot-product between pairs of inputs), this approach makes it possible to scalably learn new associations in a spiking network.\n",
      "\n",
      "Voja's rule works by moving the encoders of the active neurons toward the current input. This can be stated succinctly as,\n",
      "\n",
      "$$\n",
      "\\Delta e_i = \\kappa a_i (x - e_i)\n",
      "$$\n",
      "\n",
      "where $e_i$ is the encoder of the $i^{th}$ neuron, $\\kappa$ is a modulatory learning rate (positive to move towards, and negative to move away), $a_i$ is the filtered activity of the $i^{th}$ neuron, and $x$ is the input vector encoded by each neuron. To see how this is related to Oja's rule, substituting $e_i$ with the row of weights $W_i$, $x$ for the pre-synaptic activity vector $b$, and letting $s = 1 / a_i$ be a dynamic normalizing factor, gives\n",
      "\n",
      "$$\n",
      "\\Delta W_i = \\kappa a_i (b - s a_i W_i)\n",
      "$$\n",
      "\n",
      "which is the update rule for a single row using Oja. For more details, see [Learning large-scale heteroassociative memories in spiking neurons](http://compneuro.uwaterloo.ca/publications/voelker2014a.html).\n",
      "\n",
      "This notebook will lead the reader through a basic example of building a network that can store and recall new associations."
     ]
    },
    {
     "cell_type": "markdown",
     "metadata": {},
     "source": [
      "## Step 1: Configure some example data\n",
      "\n",
      "First, we will setup some keys (inputs) and values (outputs) for our network to store and recall."
     ]
    },
    {
     "cell_type": "code",
     "collapsed": false,
     "input": [
      "import numpy as np\n",
      "import matplotlib.pyplot as plt\n",
      "%matplotlib inline\n",
      "\n",
      "import nengo\n",
      "%load_ext nengo.ipynb"
     ],
     "language": "python",
     "metadata": {},
     "outputs": []
    },
    {
     "cell_type": "code",
     "collapsed": false,
     "input": [
      "num_items = 5\n",
      "\n",
      "d_key = 2\n",
      "d_value = 4\n",
      "\n",
      "rng = np.random.RandomState(seed=7)\n",
      "keys = nengo.dists.UniformHypersphere(surface=True).sample(\n",
      "    num_items, d_key, rng=rng)\n",
      "values = nengo.dists.UniformHypersphere(surface=False).sample(\n",
      "    num_items, d_value, rng=rng)"
     ],
     "language": "python",
     "metadata": {},
     "outputs": []
    },
    {
     "cell_type": "markdown",
     "metadata": {},
     "source": [
      "An important quantity is the largest dot-product between all pairs of keys, since a neuron's intercept should not go below this value if it's positioned between these two keys. Otherwise, the neuron will move back and forth between encoding those two inputs."
     ]
    },
    {
     "cell_type": "code",
     "collapsed": false,
     "input": [
      "intercept = (np.dot(keys, keys.T) - np.eye(num_items)).flatten().max()\n",
      "print(\"Intercept: %s\" % intercept)"
     ],
     "language": "python",
     "metadata": {},
     "outputs": []
    },
    {
     "cell_type": "markdown",
     "metadata": {},
     "source": [
      "## Step 2: Build the model\n",
      "\n",
      "We define a helper function that is useful for creating nodes that cycle through keys/values."
     ]
    },
    {
     "cell_type": "code",
     "collapsed": false,
     "input": [
      "def cycle_array(x, period, dt=0.001):\n",
      "    \"\"\"Cycles through the elements\"\"\"\n",
      "    i_every = int(round(period / dt))\n",
      "    if i_every != period / dt:\n",
      "        raise ValueError(\"dt (%s) does not divide period (%s)\" % (dt, period))\n",
      "\n",
      "    def f(t):\n",
      "        i = int(round((t - dt) / dt))  # t starts at dt\n",
      "        return x[int(i / i_every) % len(x)]\n",
      "\n",
      "    return f"
     ],
     "language": "python",
     "metadata": {},
     "outputs": []
    },
    {
     "cell_type": "markdown",
     "metadata": {},
     "source": [
      "We create three inputs: the keys, the values, and a modulatory learning signal. The model is run continuously in two phases: the first half learns the set of associations, and the second tests recall.\n",
      "\n",
      "The learning signal will be set to 0 to allow learning during the first phase, and -1 to inhibit learning during the second phase.\n",
      "\n",
      "The memory is confined to a single ensemble. Roughly speaking, its encoders will hold the keys, and its decoders will hold the values. "
     ]
    },
    {
     "cell_type": "code",
     "collapsed": false,
     "input": [
      "# Model constants\n",
      "n_neurons = 200\n",
      "dt = 0.001\n",
      "period = 0.3\n",
      "T = period * num_items * 2\n",
      "\n",
      "# Model network\n",
      "model = nengo.Network()\n",
      "with model:\n",
      "\n",
      "    # Create the inputs/outputs\n",
      "    stim_keys = nengo.Node(output=cycle_array(keys, period, dt))\n",
      "    stim_values = nengo.Node(output=cycle_array(values, period, dt))\n",
      "    learning = nengo.Node(output=lambda t: -int(t >= T / 2))\n",
      "    recall = nengo.Node(size_in=d_value)\n",
      "\n",
      "    # Create the memory\n",
      "    memory = nengo.Ensemble(\n",
      "        n_neurons, d_key, intercepts=[intercept] * n_neurons)\n",
      "\n",
      "    # Learn the encoders/keys\n",
      "    voja = nengo.Voja(learning_rate=5e-2, post_synapse=None)\n",
      "    conn_in = nengo.Connection(/n",
      "        stim_keys, memory, synapse=None, learning_rule_type=voja)\n",
      "    nengo.Connection(learning, conn_in.learning_rule, synapse=None)\n",
      "\n",
      "    # Learn the decoders/values, initialized to a null function\n",
      "    conn_out = nengo.Connection(\n",
      "        memory,\n",
      "        recall,\n",
      "        learning_rule_type=nengo.PES(1e-3),\n",
      "        function=lambda x: np.zeros(d_value))\n",
      "\n",
      "    # Create the error population\n",
      "    error = nengo.Ensemble(n_neurons, d_value)\n",
      "    nengo.Connection(\n",
      "        learning, error.neurons, transform=[[10.0]] * n_neurons, synapse=None)\n",
      "\n",
      "    # Calculate the error and use it to drive the PES rule\n",
      "    nengo.Connection(stim_values, error, transform=-1, synapse=None)\n",
      "    nengo.Connection(recall, error, synapse=None)\n",
      "    nengo.Connection(error, conn_out.learning_rule)\n",
      "\n",
      "    # Setup probes\n",
      "    p_keys = nengo.Probe(stim_keys, synapse=None)\n",
      "    p_values = nengo.Probe(stim_values, synapse=None)\n",
      "    p_learning = nengo.Probe(learning, synapse=None)\n",
      "    p_error = nengo.Probe(error, synapse=0.005)\n",
      "    p_recall = nengo.Probe(recall, synapse=None)\n",
      "    p_encoders = nengo.Probe(conn_in.learning_rule, 'scaled_encoders')"
     ],
     "language": "python",
     "metadata": {},
     "outputs": []
    },
    {
     "cell_type": "heading",
     "level": 2,
     "metadata": {},
     "source": [
      "Step 3: Running the model"
     ]
    },
    {
     "cell_type": "code",
     "collapsed": false,
     "input": [
      "with nengo.Simulator(model, dt=dt) as sim:\n",
      "    sim.run(T)\n",
      "t = sim.trange()"
     ],
     "language": "python",
     "metadata": {},
     "outputs": []
    },
    {
     "cell_type": "markdown",
     "metadata": {},
     "source": [
      "## Step 4: Plotting simulation output\n",
      "\n",
      "We first start by checking the keys, values, and learning signals."
     ]
    },
    {
     "cell_type": "code",
     "collapsed": false,
     "input": [
      "plt.figure()\n",
      "plt.title(\"Keys\")\n",
      "plt.plot(t, sim.data[p_keys])\n",
      "plt.ylim(-1, 1)\n",
      "\n",
      "plt.figure()\n",
      "plt.title(\"Values\")\n",
      "plt.plot(t, sim.data[p_values])\n",
      "plt.ylim(-1, 1)\n",
      "\n",
      "plt.figure()\n",
      "plt.title(\"Learning\")\n",
      "plt.plot(t, sim.data[p_learning])\n",
      "plt.ylim(-1.2, 0.2);"
     ],
     "language": "python",
     "metadata": {},
     "outputs": []
    },
    {
     "cell_type": "markdown",
     "metadata": {},
     "source": [
      "Next, we look at the error during training and testing. In the top figure, the error being minimized by PES goes to zero for each association during the training phase. In the bottom figure, the recall error is close to zero, with momentary spikes each time a new key is presented."
     ]
    },
    {
     "cell_type": "code",
     "collapsed": false,
     "input": [
      "train = t <= T / 2\n",
      "test = ~train\n",
      "\n",
      "plt.figure()\n",
      "plt.title(\"Value Error During Training\")\n",
      "plt.plot(t[train], sim.data[p_error][train])\n",
      "\n",
      "plt.figure()\n",
      "plt.title(\"Value Error During Recall\")\n",
      "plt.plot(t[test], sim.data[p_recall][test] - sim.data[p_values][test]);"
     ],
     "language": "python",
     "metadata": {},
     "outputs": []
    },
    {
     "cell_type": "markdown",
     "metadata": {},
     "source": [
      "## Step 5: Examining encoder changes\n",
      "\n",
      "We can also plot the two-dimensional encoders before and after training. Initially, they are uniformly distributed around the unit circle. Afterward, we see that each key has attracted all of its nearby neurons. Notably, almost all neurons are participating in the representation of a unique association."
     ]
    },
    {
     "cell_type": "code",
     "collapsed": false,
     "input": [
      "scale = (sim.data[memory].gain / memory.radius)[:, np.newaxis]\n",
      "\n",
      "\n",
      "def plot_2d(text, xy):\n",
      "    plt.figure()\n",
      "    plt.title(text)\n",
      "    plt.scatter(xy[:, 0], xy[:, 1], label=\"Encoders\")\n",
      "    plt.scatter(\n",
      "        keys[:, 0], keys[:, 1], c='red', s=150, alpha=0.6, label=\"Keys\")\n",
      "    plt.xlim(-1.5, 1.5)\n",
      "    plt.ylim(-1.5, 2)\n",
      "    plt.legend()\n",
      "    plt.axes().set_aspect('equal')\n",
      "\n",
      "\n",
      "plot_2d(\"Before\", sim.data[p_encoders][0].copy() / scale)\n",
      "plot_2d(\"After\", sim.data[p_encoders][-1].copy() / scale)"
     ],
     "language": "python",
     "metadata": {},
     "outputs": []
    }
   ],
   "metadata": {}
  }
 ]
}
